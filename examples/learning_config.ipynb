{
 "cells": [
  {
   "cell_type": "code",
   "execution_count": 3,
   "metadata": {},
   "outputs": [],
   "source": [
    "import configargparse\n",
    "import sys\n",
    "from cryomap_align.utils import init_config\n",
    "\n",
    "sys.argv = [\"--config\", \"config.ini\"]"
   ]
  },
  {
   "cell_type": "code",
   "execution_count": 4,
   "metadata": {},
   "outputs": [],
   "source": [
    "parser = configargparse.ArgumentParser()\n",
    "\n",
    "parser.add_argument(\n",
    "    \"-c\",\n",
    "    \"--config\",\n",
    "    is_config_file=True,\n",
    "    help=\"Path to config file.\",\n",
    "    required=True,\n",
    ")\n",
    "\n",
    "init_config(parser)\n",
    "config = parser.parse_args(sys.argv)"
   ]
  },
  {
   "cell_type": "code",
   "execution_count": 5,
   "metadata": {},
   "outputs": [
    {
     "data": {
      "text/plain": [
       "argparse.Namespace"
      ]
     },
     "execution_count": 5,
     "metadata": {},
     "output_type": "execute_result"
    }
   ],
   "source": [
    "type(config)"
   ]
  }
 ],
 "metadata": {
  "kernelspec": {
   "display_name": "optimization_env",
   "language": "python",
   "name": "python3"
  },
  "language_info": {
   "codemirror_mode": {
    "name": "ipython",
    "version": 3
   },
   "file_extension": ".py",
   "mimetype": "text/x-python",
   "name": "python",
   "nbconvert_exporter": "python",
   "pygments_lexer": "ipython3",
   "version": "3.11.5"
  }
 },
 "nbformat": 4,
 "nbformat_minor": 2
}
