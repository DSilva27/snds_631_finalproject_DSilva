{
 "cells": [
  {
   "cell_type": "code",
   "execution_count": 3,
   "metadata": {},
   "outputs": [],
   "source": [
    "%reload_ext autoreload\n",
    "%autoreload 2\n",
    "\n",
    "from cryomap_align.gauss_opt_utils import run_gaussian_opt"
   ]
  },
  {
   "cell_type": "code",
   "execution_count": 5,
   "metadata": {},
   "outputs": [],
   "source": [
    "from cryomap_align.opt_refinement import run_nelder_mead_refinement"
   ]
  },
  {
   "cell_type": "code",
   "execution_count": 6,
   "metadata": {},
   "outputs": [],
   "source": [
    "import aspire\n",
    "from aspire.utils.rotation import Rotation"
   ]
  },
  {
   "cell_type": "code",
   "execution_count": 8,
   "metadata": {},
   "outputs": [
    {
     "name": "stdout",
     "output_type": "stream",
     "text": [
      "2023-11-28 17:00:49,865 INFO [aspire.volume.volume] vol0.mrc with dtype float32 loaded as None\n",
      "2023-11-28 17:00:49,893 INFO [aspire.volume.volume] vol_given.mrc with dtype float32 loaded as None\n"
     ]
    }
   ],
   "source": [
    "vol = aspire.volume.Volume.load(\"vol0.mrc\")  # .downsample(32)\n",
    "vol_obj = aspire.volume.Volume.load(\"vol_given.mrc\")  # .downsample(32)"
   ]
  },
  {
   "cell_type": "code",
   "execution_count": 9,
   "metadata": {},
   "outputs": [
    {
     "ename": "AttributeError",
     "evalue": "'Volume' object has no attribute 'copy'",
     "output_type": "error",
     "traceback": [
      "\u001b[0;31m---------------------------------------------------------------------------\u001b[0m",
      "\u001b[0;31mAttributeError\u001b[0m                            Traceback (most recent call last)",
      "\u001b[1;32m/Data/Documents/PhD/year2/Fall23/Optimization/final_project/snds_431_finalproject_DSilva/examples/testing_method.ipynb Cell 5\u001b[0m line \u001b[0;36m1\n\u001b[0;32m----> <a href='vscode-notebook-cell:/Data/Documents/PhD/year2/Fall23/Optimization/final_project/snds_431_finalproject_DSilva/examples/testing_method.ipynb#X16sZmlsZQ%3D%3D?line=0'>1</a>\u001b[0m vol\u001b[39m.\u001b[39;49mcopy()\n",
      "\u001b[0;31mAttributeError\u001b[0m: 'Volume' object has no attribute 'copy'"
     ]
    }
   ],
   "source": [
    "vol.copy()"
   ]
  },
  {
   "cell_type": "code",
   "execution_count": 4,
   "metadata": {},
   "outputs": [],
   "source": [
    "random_rot = Rotation.generate_random_rotations(1)\n",
    "true_rot = random_rot._matrices[0]\n",
    "\n",
    "vol_obj = vol.rotate(random_rot)"
   ]
  },
  {
   "cell_type": "code",
   "execution_count": 6,
   "metadata": {},
   "outputs": [],
   "source": [
    "%%capture\n",
    "\n",
    "import warnings\n",
    "\n",
    "warnings.filterwarnings(\"ignore\")\n",
    "\n",
    "opt_rot = run_gaussian_opt(vol_obj, vol, 200, ds_res=32)"
   ]
  },
  {
   "cell_type": "code",
   "execution_count": 19,
   "metadata": {},
   "outputs": [
    {
     "data": {
      "text/plain": [
       "array([[-0.6598355 , -0.7458821 , -0.09097802],\n",
       "       [ 0.559783  , -0.5687147 ,  0.60266626],\n",
       "       [-0.5012585 ,  0.34673265,  0.7927903 ]], dtype=float32)"
      ]
     },
     "execution_count": 19,
     "metadata": {},
     "output_type": "execute_result"
    }
   ],
   "source": [
    "true_rot.T"
   ]
  },
  {
   "cell_type": "code",
   "execution_count": 12,
   "metadata": {},
   "outputs": [
    {
     "data": {
      "text/plain": [
       "array([[-0.68726856, -0.7262958 ,  0.01250124],\n",
       "       [ 0.53406876, -0.49355587,  0.6864205 ],\n",
       "       [-0.4923743 ,  0.4784318 ,  0.7270974 ]], dtype=float32)"
      ]
     },
     "execution_count": 12,
     "metadata": {},
     "output_type": "execute_result"
    }
   ],
   "source": [
    "opt_rot"
   ]
  },
  {
   "cell_type": "code",
   "execution_count": 16,
   "metadata": {},
   "outputs": [
    {
     "data": {
      "text/plain": [
       "array([-0.14070354,  0.34154623,  0.85263149,  0.36955139])"
      ]
     },
     "execution_count": 16,
     "metadata": {},
     "output_type": "execute_result"
    }
   ],
   "source": [
    "from scipy.spatial.transform import Rotation as R\n",
    "\n",
    "R.from_matrix(opt_rot).as_quat()"
   ]
  },
  {
   "cell_type": "code",
   "execution_count": 18,
   "metadata": {},
   "outputs": [
    {
     "name": "stdout",
     "output_type": "stream",
     "text": [
      "Optimization terminated successfully.\n",
      "         Current function value: 1.645646\n",
      "         Iterations: 77\n",
      "         Function evaluations: 142\n"
     ]
    },
    {
     "data": {
      "text/plain": [
       "array([[-0.65901851, -0.7468369 , -0.08904636],\n",
       "       [ 0.56220552, -0.5677891 ,  0.60128237],\n",
       "       [-0.49961941,  0.34619386,  0.79405935]])"
      ]
     },
     "execution_count": 18,
     "metadata": {},
     "output_type": "execute_result"
    }
   ],
   "source": [
    "run_nelder_mead_refinement(opt_rot, vol_obj.downsample(32), vol.downsample(32))"
   ]
  },
  {
   "cell_type": "code",
   "execution_count": null,
   "metadata": {},
   "outputs": [],
   "source": []
  }
 ],
 "metadata": {
  "kernelspec": {
   "display_name": "optimization_env",
   "language": "python",
   "name": "python3"
  },
  "language_info": {
   "codemirror_mode": {
    "name": "ipython",
    "version": 3
   },
   "file_extension": ".py",
   "mimetype": "text/x-python",
   "name": "python",
   "nbconvert_exporter": "python",
   "pygments_lexer": "ipython3",
   "version": "3.11.5"
  }
 },
 "nbformat": 4,
 "nbformat_minor": 2
}
